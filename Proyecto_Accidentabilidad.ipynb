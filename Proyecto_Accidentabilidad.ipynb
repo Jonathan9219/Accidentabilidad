{
  "nbformat": 4,
  "nbformat_minor": 0,
  "metadata": {
    "colab": {
      "provenance": [],
      "include_colab_link": true
    },
    "kernelspec": {
      "name": "python3",
      "display_name": "Python 3"
    },
    "language_info": {
      "name": "python"
    }
  },
  "cells": [
    {
      "cell_type": "markdown",
      "metadata": {
        "id": "view-in-github",
        "colab_type": "text"
      },
      "source": [
        "<a href=\"https://colab.research.google.com/github/Jonathan9219/Accidentabilidad/blob/main/Proyecto_Accidentabilidad.ipynb\" target=\"_parent\"><img src=\"https://colab.research.google.com/assets/colab-badge.svg\" alt=\"Open In Colab\"/></a>"
      ]
    },
    {
      "cell_type": "code",
      "source": [
        "import pandas as pd\n",
        "import numpy as np\n",
        "import matplotlib.pyplot as plt\n",
        "import seaborn as sns\n",
        "from datetime import datetime\n",
        "import os\n",
        "import sqlite3 as sql\n",
        "import plotly.graph_objs as go\n",
        "import plotly.express as px\n",
        "import sys\n",
        "from mlxtend.preprocessing import TransactionEncoder\n",
        "import joblib"
      ],
      "metadata": {
        "id": "ob3s5bnqxQwl"
      },
      "execution_count": 2,
      "outputs": []
    },
    {
      "cell_type": "code",
      "source": [
        "# Para machine learning\n",
        "from sklearn.model_selection import train_test_split, cross_val_score, GridSearchCV\n",
        "from sklearn.preprocessing import StandardScaler, OneHotEncoder, LabelEncoder\n",
        "from sklearn.impute import SimpleImputer\n",
        "from sklearn.compose import ColumnTransformer\n",
        "from sklearn.pipeline import Pipeline\n",
        "from sklearn.linear_model import LogisticRegression\n",
        "from sklearn.tree import DecisionTreeClassifier\n",
        "from sklearn.ensemble import RandomForestClassifier, GradientBoostingClassifier\n",
        "from sklearn.svm import SVC\n",
        "from sklearn.neighbors import KNeighborsClassifier\n",
        "from sklearn.metrics import accuracy_score, precision_score, recall_score, f1_score\n",
        "from sklearn.metrics import confusion_matrix, classification_report, roc_curve, roc_auc_score"
      ],
      "metadata": {
        "id": "ciBf70lsxTZt"
      },
      "execution_count": 3,
      "outputs": []
    },
    {
      "cell_type": "code",
      "source": [
        "# Configuración para visualizaciones\n",
        "plt.style.use('seaborn-v0_8-whitegrid')\n",
        "plt.rcParams['figure.figsize'] = (12, 8)\n",
        "plt.rcParams['font.size'] = 12"
      ],
      "metadata": {
        "id": "qm314tQixWZ1"
      },
      "execution_count": 4,
      "outputs": []
    },
    {
      "cell_type": "code",
      "source": [
        "# Ignorar advertencias\n",
        "import warnings\n",
        "warnings.filterwarnings('ignore')\n",
        "\n",
        "print(\"Entorno configurado correctamente.\")\n",
        "\n",
        "class AccidentalidadML:\n",
        "    \"\"\"\n",
        "    Clase unificada para análisis de accidentalidad vial con ML\n",
        "    \"\"\"\n",
        "\n",
        "    def __init__(self):\n",
        "        self.df = None\n",
        "        self.target_column = None\n",
        "        self.preprocessor = None\n",
        "        self.best_model = None\n",
        "        self.best_model_name = None\n",
        "\n",
        "    def cargar_y_limpiar_datos(self):\n",
        "        \"\"\"\n",
        "        Carga y limpia los datos (manteniendo tu código original)\n",
        "        \"\"\"\n",
        "        print(\"🚗 CARGANDO Y LIMPIANDO DATOS DE ACCIDENTALIDAD...\")\n",
        "\n",
        "        # Cargar datos históricos\n",
        "        ruta_archivo = 'https://raw.githubusercontent.com/AleAguirreM/Proyecto-ACCIDENTALIDAD-VIAL/main/AMVA_Accidentalidad_20191022_2.csv'\n",
        "\n",
        "        try:\n",
        "            self.df = pd.read_csv(ruta_archivo, sep=';', encoding='latin1')\n",
        "            print(f\"✓ Datos cargados: {self.df.shape[0]} filas, {self.df.shape[1]} columnas\")\n",
        "        except Exception as e:\n",
        "            print(f\"❌ Error al cargar datos: {e}\")\n",
        "            return None"
      ],
      "metadata": {
        "colab": {
          "base_uri": "https://localhost:8080/"
        },
        "id": "q96IPLmhxZcf",
        "outputId": "b2d65ac6-e88f-4c96-f1ab-e73764fac24d"
      },
      "execution_count": 5,
      "outputs": [
        {
          "output_type": "stream",
          "name": "stdout",
          "text": [
            "Entorno configurado correctamente.\n"
          ]
        }
      ]
    },
    {
      "cell_type": "code",
      "source": [
        " # Cargar datos históricos\n",
        "        ruta_archivo = 'https://raw.githubusercontent.com/AleAguirreM/Proyecto-ACCIDENTALIDAD-VIAL/main/AMVA_Accidentalidad_20191022_2.csv'\n",
        "\n",
        "        try:\n",
        "            self.df = pd.read_csv(ruta_archivo, sep=';', encoding='latin1')\n",
        "            print(f\"✓ Datos cargados: {self.df.shape[0]} filas, {self.df.shape[1]} columnas\")\n",
        "        except Exception as e:\n",
        "            print(f\"❌ Error al cargar datos: {e}\")\n",
        "            return None"
      ],
      "metadata": {
        "colab": {
          "base_uri": "https://localhost:8080/",
          "height": 106
        },
        "id": "5BLvcP1gxcab",
        "outputId": "6c8f5fa7-9085-4932-c48a-4b09eccea2d3"
      },
      "execution_count": 7,
      "outputs": [
        {
          "output_type": "error",
          "ename": "IndentationError",
          "evalue": "unexpected indent (ipython-input-851070170.py, line 2)",
          "traceback": [
            "\u001b[0;36m  File \u001b[0;32m\"/tmp/ipython-input-851070170.py\"\u001b[0;36m, line \u001b[0;32m2\u001b[0m\n\u001b[0;31m    ruta_archivo = 'https://raw.githubusercontent.com/AleAguirreM/Proyecto-ACCIDENTALIDAD-VIAL/main/AMVA_Accidentalidad_20191022_2.csv'\u001b[0m\n\u001b[0m    ^\u001b[0m\n\u001b[0;31mIndentationError\u001b[0m\u001b[0;31m:\u001b[0m unexpected indent\n"
          ]
        }
      ]
    }
  ]
}